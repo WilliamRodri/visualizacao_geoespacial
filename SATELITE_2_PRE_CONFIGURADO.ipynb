{
  "cells": [
    {
      "cell_type": "markdown",
      "source": [
        "## **Configurações Inciais**"
      ],
      "metadata": {
        "id": "tgXxi1x2U3Vw"
      },
      "id": "tgXxi1x2U3Vw"
    },
    {
      "cell_type": "code",
      "execution_count": null,
      "metadata": {
        "id": "wvNbLDDGaT_D"
      },
      "outputs": [],
      "source": [
        "!pip install geemap"
      ],
      "id": "wvNbLDDGaT_D"
    },
    {
      "cell_type": "code",
      "execution_count": 2,
      "metadata": {
        "id": "-D_egU46aT_E"
      },
      "outputs": [],
      "source": [
        "import ee\n",
        "import geemap"
      ],
      "id": "-D_egU46aT_E"
    },
    {
      "cell_type": "code",
      "source": [
        "ee.Authenticate()\n",
        "ee.Initialize()"
      ],
      "metadata": {
        "id": "QNg1hI7TgjAC"
      },
      "id": "QNg1hI7TgjAC",
      "execution_count": null,
      "outputs": []
    },
    {
      "cell_type": "code",
      "source": [
        "Map = geemap.Map()\n",
        "Map"
      ],
      "metadata": {
        "id": "skvmqj6IKlGK"
      },
      "id": "skvmqj6IKlGK",
      "execution_count": null,
      "outputs": []
    },
    {
      "cell_type": "code",
      "source": [
        "area = Map.user_roi\n",
        "area.getInfo()"
      ],
      "metadata": {
        "colab": {
          "base_uri": "https://localhost:8080/"
        },
        "id": "U84y3XQ9KnmO",
        "outputId": "7acd1b8b-a6c8-4fe7-db5a-7cd2e9afc0d8"
      },
      "id": "U84y3XQ9KnmO",
      "execution_count": 24,
      "outputs": [
        {
          "output_type": "execute_result",
          "data": {
            "text/plain": [
              "{'type': 'Polygon',\n",
              " 'coordinates': [[[-41.835938, -8.146243],\n",
              "   [-37.177734, -8.146243],\n",
              "   [-37.177734, -1.669686],\n",
              "   [-41.835938, -1.669686],\n",
              "   [-41.835938, -8.146243]]]}"
            ]
          },
          "metadata": {},
          "execution_count": 24
        }
      ]
    },
    {
      "cell_type": "code",
      "source": [
        "Map = geemap.Map(center=[-5.498398, -39.320624], zoom=7)\n",
        "\n",
        "region = ee.Geometry.Point(area)"
      ],
      "metadata": {
        "id": "QEIvhakHOuXX"
      },
      "id": "QEIvhakHOuXX",
      "execution_count": 58,
      "outputs": []
    },
    {
      "cell_type": "markdown",
      "source": [
        "## **Mapa 1 Configurações**"
      ],
      "metadata": {
        "id": "y7Y0V8sYUr_4"
      },
      "id": "y7Y0V8sYUr_4"
    },
    {
      "cell_type": "code",
      "source": [
        "def getImageSatelliteOne(year):\n",
        "  start_date = ee.Date.fromYMD(year, 1, 1)\n",
        "  end_date = start_date.advance(1, 'year')\n",
        "\n",
        "  imagem_mapa = ee.ImageCollection(\"MODIS/061/MOD09A1\")\\\n",
        "          .filterBounds(area)\\\n",
        "          .filterDate(start_date, end_date)\\\n",
        "          .first()\n",
        "\n",
        "  return imagem_mapa"
      ],
      "metadata": {
        "id": "CRSZ4yniHOI1"
      },
      "id": "CRSZ4yniHOI1",
      "execution_count": 70,
      "outputs": []
    },
    {
      "cell_type": "code",
      "source": [
        "anos = ee.List.sequence(2001, 2023)\n",
        "imagens = anos.map(getImageSatelliteOne)\n",
        "contar = imagens.size().getInfo()\n",
        "lista_anos = anos.getInfo()\n",
        "lista_anos"
      ],
      "metadata": {
        "id": "T29cYGxRVziS"
      },
      "id": "T29cYGxRVziS",
      "execution_count": null,
      "outputs": []
    },
    {
      "cell_type": "code",
      "source": [
        "props_mapa1 = {\n",
        "    'bands': ['sur_refl_b01', 'sur_refl_b04', 'sur_refl_b03'],\n",
        "    'min': -100.0,\n",
        "    'max': 3000.0,\n",
        "}"
      ],
      "metadata": {
        "id": "4DY1eRLwWK0C"
      },
      "id": "4DY1eRLwWK0C",
      "execution_count": 74,
      "outputs": []
    },
    {
      "cell_type": "code",
      "source": [
        "for index in range(0, contar):\n",
        "    imagem = ee.Image(imagens.get(index))\n",
        "    nome_camada = \"Mapa(1) \" + str(lista_anos[index])\n",
        "    Map.addLayer(imagem, props_mapa1, 'Remote Sensing Reflectance', True, 0.8)\n",
        "    Map.add_legend(title=\"Mapa GEOGRAFICO CEARÁ\", builtin_legend='mapa1')\n",
        "    #https://developers.google.com/earth-engine/datasets/catalog/MODIS_061_MOD09A1"
      ],
      "metadata": {
        "id": "6S2jo1SDWS6T"
      },
      "id": "6S2jo1SDWS6T",
      "execution_count": null,
      "outputs": []
    },
    {
      "cell_type": "code",
      "source": [
        "  #Map.addLayer(imagem_mapa, props_mapa1, 'Remote Sensing Reflectance', True, 0.8)\n",
        "  #Map.add_legend(title=\"Mapa GEOGRAFICO CEARÁ\", builtin_legend='mapa1')\n",
        "  #https://developers.google.com/earth-engine/datasets/catalog/MODIS_061_MOD09A1"
      ],
      "metadata": {
        "id": "fer4gP3vVyhB"
      },
      "id": "fer4gP3vVyhB",
      "execution_count": null,
      "outputs": []
    },
    {
      "cell_type": "markdown",
      "source": [
        "## **Mapa 2 Configurações**"
      ],
      "metadata": {
        "id": "aQdR61KXZbN-"
      },
      "id": "aQdR61KXZbN-"
    },
    {
      "cell_type": "code",
      "source": [
        "def melhores_imagens(ano):\n",
        "    ano_inicio = ee.Date.fromYMD(ano, 1, 1)\n",
        "    ano_fim = ano_inicio.advance(1, 'year')\n",
        "\n",
        "    imagem = ee.ImageCollection(\"LANDSAT/LT05/C01/T1_SR\") \\\n",
        "                .filterDate(ano_inicio, ano_fim) \\\n",
        "                .filterBounds(area_int) \\\n",
        "                .sort(\"CLOUD_COVER\") \\\n",
        "                .first() \\\n",
        "\n",
        "    return imagem"
      ],
      "metadata": {
        "id": "cJiUnnLHZi1b"
      },
      "id": "cJiUnnLHZi1b",
      "execution_count": 126,
      "outputs": []
    },
    {
      "cell_type": "code",
      "source": [
        "anos_map2 = ee.List.sequence(1984, 2011)\n",
        "imagens_map2 = anos_map2.map(melhores_imagens)\n",
        "contar_map2 = imagens_map2.size().getInfo()\n",
        "print(contar_map2)\n",
        "lista_anos_map2 = anos_map2.getInfo()\n",
        "lista_anos_map2"
      ],
      "metadata": {
        "id": "Idd_ZSP7Z9fH"
      },
      "id": "Idd_ZSP7Z9fH",
      "execution_count": null,
      "outputs": []
    },
    {
      "cell_type": "code",
      "source": [
        "props_map2 = {\n",
        "    'bands': ['B3', 'B2', 'B1'],\n",
        "    'min': 300,\n",
        "    'max': 1000,\n",
        "    'gamma': 1.0\n",
        "}"
      ],
      "metadata": {
        "id": "H4TlUsaqaRr-"
      },
      "id": "H4TlUsaqaRr-",
      "execution_count": 129,
      "outputs": []
    },
    {
      "cell_type": "code",
      "source": [
        "for index_map2 in range(0,contar_map2):\n",
        "  imagem_map2 = ee.Image(imagens_map2.get(index_map2))\n",
        "  nome_camada_two = \"Imagem(2) \" + str(lista_anos[index])\n",
        "  Map.addLayer(imagem_map2, props_map2, nome_camada_two)\n",
        "  Map.add_legend(title=\"Mapa GEOGRAFICO CEARÁ 2\", builtin_legend='mapa2')"
      ],
      "metadata": {
        "id": "2YI2bilgaaUd"
      },
      "id": "2YI2bilgaaUd",
      "execution_count": 130,
      "outputs": []
    },
    {
      "cell_type": "code",
      "source": [
        "#Map.addLayer(imagem_mapa2, {}, 'NDVI')\n",
        "#Map.add_legend(title=\"Mapa do Ceará 2\", builtin_legend='mapa2')\n",
        "#https://developers.google.com/earth-engine/datasets/catalog/MODIS_061_MOD13A2"
      ],
      "metadata": {
        "id": "TjdFbtTJXb6U"
      },
      "id": "TjdFbtTJXb6U",
      "execution_count": null,
      "outputs": []
    },
    {
      "cell_type": "code",
      "source": [
        "Map"
      ],
      "metadata": {
        "id": "8Dg45RLndDtf"
      },
      "id": "8Dg45RLndDtf",
      "execution_count": null,
      "outputs": []
    },
    {
      "cell_type": "markdown",
      "source": [
        "## **Configurações de Inicialização**"
      ],
      "metadata": {
        "id": "OCr1VVreZmUZ"
      },
      "id": "OCr1VVreZmUZ"
    },
    {
      "cell_type": "code",
      "source": [
        "left_layer = geemap.ee_tile_layer(imagem_mapa, props_mapa1, 'Remote Sensing Reflectance', True, 0.8)\n",
        "right_layer = geemap.ee_tile_layer(imagem_mapa2, {}, 'NDVI')"
      ],
      "metadata": {
        "id": "VcR0FrW6QkC0"
      },
      "id": "VcR0FrW6QkC0",
      "execution_count": 61,
      "outputs": []
    },
    {
      "cell_type": "code",
      "source": [
        "Map.split_map(left_layer, right_layer)"
      ],
      "metadata": {
        "id": "Ijdx0UXzTf49"
      },
      "id": "Ijdx0UXzTf49",
      "execution_count": 63,
      "outputs": []
    },
    {
      "cell_type": "code",
      "source": [
        "Map"
      ],
      "metadata": {
        "id": "c54NqGxJTr-m"
      },
      "id": "c54NqGxJTr-m",
      "execution_count": null,
      "outputs": []
    }
  ],
  "metadata": {
    "kernelspec": {
      "display_name": "Python 3",
      "language": "python",
      "name": "python3"
    },
    "colab": {
      "provenance": []
    }
  },
  "nbformat": 4,
  "nbformat_minor": 5
}